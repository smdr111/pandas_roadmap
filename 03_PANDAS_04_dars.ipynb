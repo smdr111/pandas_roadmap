{
  "cells": [
    {
      "cell_type": "markdown",
      "id": "55aafbc0-6fd9-4bbe-b932-27e68c069a8f",
      "metadata": {
        "id": "55aafbc0-6fd9-4bbe-b932-27e68c069a8f"
      },
      "source": [
        "![Imgur](https://i.imgur.com/5pXzCIu.png)\n",
        "\n",
        "# Data Science va Sun'iy Intellekt Praktikum\n",
        "\n",
        "## Ma'lumotlar tahlili. Pandas kutubxonasi.\n",
        "\n",
        "### 2.2.3 Foydali funksiyalar (davomi)"
      ]
    },
    {
      "cell_type": "markdown",
      "id": "422503c9-eede-4884-82b7-e2ed8c8345b0",
      "metadata": {
        "id": "422503c9-eede-4884-82b7-e2ed8c8345b0"
      },
      "source": [
        "### Arifmetik amallar"
      ]
    },
    {
      "cell_type": "markdown",
      "id": "88fb7c9c-6945-4a3a-b1d2-56e75e7234f7",
      "metadata": {
        "id": "88fb7c9c-6945-4a3a-b1d2-56e75e7234f7"
      },
      "source": [
        "Ikki `Series` yoki `DataFrame` obyektlari o'rtasida arifmetik amallar bajarishda indekslar juda muhim rol o'ynaydi.\n",
        "\n",
        "Amallar mos tushuvchi indekslar o'rtasida bajariladi. Agar obyektlarning birida mavjud indeks ikkinchisda yo'q bo'lsa natija `NaN` bo'ladi."
      ]
    },
    {
      "cell_type": "code",
      "execution_count": null,
      "id": "515a30ff-5af0-4ab8-b82e-1c63ce944724",
      "metadata": {
        "id": "515a30ff-5af0-4ab8-b82e-1c63ce944724"
      },
      "outputs": [],
      "source": [
        "import pandas as pd\n",
        "import numpy as np"
      ]
    },
    {
      "cell_type": "code",
      "execution_count": null,
      "id": "709d2a11-c86f-4925-9991-3f5baad7d1a5",
      "metadata": {
        "id": "709d2a11-c86f-4925-9991-3f5baad7d1a5"
      },
      "outputs": [],
      "source": [
        "s1 = pd.Series([7.3, -2.5, 3.4, 1.5], index=['a', 'c', 'd', 'e'])\n",
        "s2 = pd.Series([-2.1, 3.6, -1.5, 4, 3.1], index=['a', 'c', 'e', 'f', 'g'])"
      ]
    },
    {
      "cell_type": "code",
      "execution_count": null,
      "id": "ac68ea47-80f8-42a8-8e65-d30039280ace",
      "metadata": {
        "id": "ac68ea47-80f8-42a8-8e65-d30039280ace",
        "outputId": "6bc00f6c-f183-4880-87ed-4e3224324de6"
      },
      "outputs": [
        {
          "data": {
            "text/plain": [
              "a    7.3\n",
              "c   -2.5\n",
              "d    3.4\n",
              "e    1.5\n",
              "dtype: float64"
            ]
          },
          "execution_count": 5,
          "metadata": {},
          "output_type": "execute_result"
        }
      ],
      "source": [
        "s1"
      ]
    },
    {
      "cell_type": "code",
      "execution_count": null,
      "id": "1a045ca9-fac8-4cdf-ad8c-4ef19f7edf96",
      "metadata": {
        "id": "1a045ca9-fac8-4cdf-ad8c-4ef19f7edf96",
        "outputId": "4c18cf6a-4da0-4b9a-9a33-09046cc80588"
      },
      "outputs": [
        {
          "data": {
            "text/plain": [
              "a   -2.1\n",
              "c    3.6\n",
              "e   -1.5\n",
              "f    4.0\n",
              "g    3.1\n",
              "dtype: float64"
            ]
          },
          "execution_count": 6,
          "metadata": {},
          "output_type": "execute_result"
        }
      ],
      "source": [
        "s2"
      ]
    },
    {
      "cell_type": "code",
      "execution_count": null,
      "id": "5c2b0c0b-796e-413b-a551-9c8fa218cab0",
      "metadata": {
        "id": "5c2b0c0b-796e-413b-a551-9c8fa218cab0",
        "outputId": "42d1d7e6-c827-4464-9576-ba25086e54cf"
      },
      "outputs": [
        {
          "data": {
            "text/plain": [
              "a    5.2\n",
              "c    1.1\n",
              "d    NaN\n",
              "e    0.0\n",
              "f    NaN\n",
              "g    NaN\n",
              "dtype: float64"
            ]
          },
          "execution_count": 7,
          "metadata": {},
          "output_type": "execute_result"
        }
      ],
      "source": [
        "s1+s2"
      ]
    },
    {
      "cell_type": "markdown",
      "id": "47dcdbff-2adb-44fe-a390-f73583f96008",
      "metadata": {
        "id": "47dcdbff-2adb-44fe-a390-f73583f96008"
      },
      "source": [
        "E'tibor bering, `s1` da mavjud `d` indeksi `s2`da mavjud bo'lmaganligi sabab `s1+s2` da `d` indeksdagi qiymat `NaN` bo'ldi."
      ]
    },
    {
      "cell_type": "markdown",
      "id": "9a408c75-0375-49d7-85d0-696fc4821899",
      "metadata": {
        "id": "9a408c75-0375-49d7-85d0-696fc4821899"
      },
      "source": [
        "Yuqoridagi holat `DataFrame`larga ham xos. `Series`lardan farqli ravishda `DataFrame`da qator va ustun indekslari hisobga olinadi."
      ]
    },
    {
      "cell_type": "code",
      "execution_count": null,
      "id": "1c1e40f3-611c-49ab-9f47-04c6702031ff",
      "metadata": {
        "id": "1c1e40f3-611c-49ab-9f47-04c6702031ff"
      },
      "outputs": [],
      "source": [
        "df1 = pd.DataFrame(np.arange(9.).reshape(3,3), columns=list('bcd'), index=['Olma','Anor','Uzum'])\n",
        "df2 = pd.DataFrame(np.arange(12.).reshape(4,3), columns=list('abc'), index=['Olma','Anor','Qovun','Anjir'])"
      ]
    },
    {
      "cell_type": "code",
      "execution_count": null,
      "id": "3429639c-5c42-4f33-95c9-21fed66121e1",
      "metadata": {
        "id": "3429639c-5c42-4f33-95c9-21fed66121e1",
        "outputId": "39e43ecd-d59e-4db7-b116-0c79a48f3e11"
      },
      "outputs": [
        {
          "data": {
            "text/html": [
              "<div>\n",
              "<style scoped>\n",
              "    .dataframe tbody tr th:only-of-type {\n",
              "        vertical-align: middle;\n",
              "    }\n",
              "\n",
              "    .dataframe tbody tr th {\n",
              "        vertical-align: top;\n",
              "    }\n",
              "\n",
              "    .dataframe thead th {\n",
              "        text-align: right;\n",
              "    }\n",
              "</style>\n",
              "<table border=\"1\" class=\"dataframe\">\n",
              "  <thead>\n",
              "    <tr style=\"text-align: right;\">\n",
              "      <th></th>\n",
              "      <th>b</th>\n",
              "      <th>c</th>\n",
              "      <th>d</th>\n",
              "    </tr>\n",
              "  </thead>\n",
              "  <tbody>\n",
              "    <tr>\n",
              "      <th>Olma</th>\n",
              "      <td>0.0</td>\n",
              "      <td>1.0</td>\n",
              "      <td>2.0</td>\n",
              "    </tr>\n",
              "    <tr>\n",
              "      <th>Anor</th>\n",
              "      <td>3.0</td>\n",
              "      <td>4.0</td>\n",
              "      <td>5.0</td>\n",
              "    </tr>\n",
              "    <tr>\n",
              "      <th>Uzum</th>\n",
              "      <td>6.0</td>\n",
              "      <td>7.0</td>\n",
              "      <td>8.0</td>\n",
              "    </tr>\n",
              "  </tbody>\n",
              "</table>\n",
              "</div>"
            ],
            "text/plain": [
              "        b    c    d\n",
              "Olma  0.0  1.0  2.0\n",
              "Anor  3.0  4.0  5.0\n",
              "Uzum  6.0  7.0  8.0"
            ]
          },
          "execution_count": 30,
          "metadata": {},
          "output_type": "execute_result"
        }
      ],
      "source": [
        "df1"
      ]
    },
    {
      "cell_type": "code",
      "execution_count": null,
      "id": "0bdec297-eb62-49e7-a1d8-2339b7e7a9f9",
      "metadata": {
        "id": "0bdec297-eb62-49e7-a1d8-2339b7e7a9f9",
        "outputId": "70db46de-1cb9-4188-95e4-5e7ee69f834e"
      },
      "outputs": [
        {
          "data": {
            "text/html": [
              "<div>\n",
              "<style scoped>\n",
              "    .dataframe tbody tr th:only-of-type {\n",
              "        vertical-align: middle;\n",
              "    }\n",
              "\n",
              "    .dataframe tbody tr th {\n",
              "        vertical-align: top;\n",
              "    }\n",
              "\n",
              "    .dataframe thead th {\n",
              "        text-align: right;\n",
              "    }\n",
              "</style>\n",
              "<table border=\"1\" class=\"dataframe\">\n",
              "  <thead>\n",
              "    <tr style=\"text-align: right;\">\n",
              "      <th></th>\n",
              "      <th>a</th>\n",
              "      <th>b</th>\n",
              "      <th>c</th>\n",
              "    </tr>\n",
              "  </thead>\n",
              "  <tbody>\n",
              "    <tr>\n",
              "      <th>Olma</th>\n",
              "      <td>0.0</td>\n",
              "      <td>1.0</td>\n",
              "      <td>2.0</td>\n",
              "    </tr>\n",
              "    <tr>\n",
              "      <th>Anor</th>\n",
              "      <td>3.0</td>\n",
              "      <td>4.0</td>\n",
              "      <td>5.0</td>\n",
              "    </tr>\n",
              "    <tr>\n",
              "      <th>Qovun</th>\n",
              "      <td>6.0</td>\n",
              "      <td>7.0</td>\n",
              "      <td>8.0</td>\n",
              "    </tr>\n",
              "    <tr>\n",
              "      <th>Anjir</th>\n",
              "      <td>9.0</td>\n",
              "      <td>10.0</td>\n",
              "      <td>11.0</td>\n",
              "    </tr>\n",
              "  </tbody>\n",
              "</table>\n",
              "</div>"
            ],
            "text/plain": [
              "         a     b     c\n",
              "Olma   0.0   1.0   2.0\n",
              "Anor   3.0   4.0   5.0\n",
              "Qovun  6.0   7.0   8.0\n",
              "Anjir  9.0  10.0  11.0"
            ]
          },
          "execution_count": 31,
          "metadata": {},
          "output_type": "execute_result"
        }
      ],
      "source": [
        "df2"
      ]
    },
    {
      "cell_type": "code",
      "execution_count": null,
      "id": "1f9eef81-a4b0-438c-9f02-75509f751709",
      "metadata": {
        "id": "1f9eef81-a4b0-438c-9f02-75509f751709",
        "outputId": "6278ef45-be42-4791-bc70-671d874f1661"
      },
      "outputs": [
        {
          "data": {
            "text/html": [
              "<div>\n",
              "<style scoped>\n",
              "    .dataframe tbody tr th:only-of-type {\n",
              "        vertical-align: middle;\n",
              "    }\n",
              "\n",
              "    .dataframe tbody tr th {\n",
              "        vertical-align: top;\n",
              "    }\n",
              "\n",
              "    .dataframe thead th {\n",
              "        text-align: right;\n",
              "    }\n",
              "</style>\n",
              "<table border=\"1\" class=\"dataframe\">\n",
              "  <thead>\n",
              "    <tr style=\"text-align: right;\">\n",
              "      <th></th>\n",
              "      <th>a</th>\n",
              "      <th>b</th>\n",
              "      <th>c</th>\n",
              "      <th>d</th>\n",
              "    </tr>\n",
              "  </thead>\n",
              "  <tbody>\n",
              "    <tr>\n",
              "      <th>Anjir</th>\n",
              "      <td>NaN</td>\n",
              "      <td>NaN</td>\n",
              "      <td>NaN</td>\n",
              "      <td>NaN</td>\n",
              "    </tr>\n",
              "    <tr>\n",
              "      <th>Anor</th>\n",
              "      <td>NaN</td>\n",
              "      <td>7.0</td>\n",
              "      <td>9.0</td>\n",
              "      <td>NaN</td>\n",
              "    </tr>\n",
              "    <tr>\n",
              "      <th>Olma</th>\n",
              "      <td>NaN</td>\n",
              "      <td>1.0</td>\n",
              "      <td>3.0</td>\n",
              "      <td>NaN</td>\n",
              "    </tr>\n",
              "    <tr>\n",
              "      <th>Qovun</th>\n",
              "      <td>NaN</td>\n",
              "      <td>NaN</td>\n",
              "      <td>NaN</td>\n",
              "      <td>NaN</td>\n",
              "    </tr>\n",
              "    <tr>\n",
              "      <th>Uzum</th>\n",
              "      <td>NaN</td>\n",
              "      <td>NaN</td>\n",
              "      <td>NaN</td>\n",
              "      <td>NaN</td>\n",
              "    </tr>\n",
              "  </tbody>\n",
              "</table>\n",
              "</div>"
            ],
            "text/plain": [
              "        a    b    c   d\n",
              "Anjir NaN  NaN  NaN NaN\n",
              "Anor  NaN  7.0  9.0 NaN\n",
              "Olma  NaN  1.0  3.0 NaN\n",
              "Qovun NaN  NaN  NaN NaN\n",
              "Uzum  NaN  NaN  NaN NaN"
            ]
          },
          "execution_count": 32,
          "metadata": {},
          "output_type": "execute_result"
        }
      ],
      "source": [
        "df1+df2"
      ]
    },
    {
      "cell_type": "markdown",
      "id": "699a81dc-ec9c-4fc9-b659-7d731b3e9ba7",
      "metadata": {
        "id": "699a81dc-ec9c-4fc9-b659-7d731b3e9ba7"
      },
      "source": [
        "`a` va `d` ustunlar hamda `Qovun` va `Anjir` qatorlar ikkala `DataFrame`da bo'lmagani sababli yuqoridagi natija chiqdi"
      ]
    },
    {
      "cell_type": "markdown",
      "id": "ffcfc25f-2cb8-4408-9b2c-8ea2f0928780",
      "metadata": {
        "id": "ffcfc25f-2cb8-4408-9b2c-8ea2f0928780"
      },
      "source": [
        "Yuqoridagi qo'shish amalini `.add()` metodi yordamida ham bajarish mumkin."
      ]
    },
    {
      "cell_type": "code",
      "execution_count": null,
      "id": "0ca0730d-80a7-442c-b385-cab90cf72159",
      "metadata": {
        "id": "0ca0730d-80a7-442c-b385-cab90cf72159",
        "outputId": "05694236-9f7b-4712-a5d3-aada76bbadef"
      },
      "outputs": [
        {
          "data": {
            "text/html": [
              "<div>\n",
              "<style scoped>\n",
              "    .dataframe tbody tr th:only-of-type {\n",
              "        vertical-align: middle;\n",
              "    }\n",
              "\n",
              "    .dataframe tbody tr th {\n",
              "        vertical-align: top;\n",
              "    }\n",
              "\n",
              "    .dataframe thead th {\n",
              "        text-align: right;\n",
              "    }\n",
              "</style>\n",
              "<table border=\"1\" class=\"dataframe\">\n",
              "  <thead>\n",
              "    <tr style=\"text-align: right;\">\n",
              "      <th></th>\n",
              "      <th>a</th>\n",
              "      <th>b</th>\n",
              "      <th>c</th>\n",
              "      <th>d</th>\n",
              "    </tr>\n",
              "  </thead>\n",
              "  <tbody>\n",
              "    <tr>\n",
              "      <th>Anjir</th>\n",
              "      <td>NaN</td>\n",
              "      <td>NaN</td>\n",
              "      <td>NaN</td>\n",
              "      <td>NaN</td>\n",
              "    </tr>\n",
              "    <tr>\n",
              "      <th>Anor</th>\n",
              "      <td>NaN</td>\n",
              "      <td>7.0</td>\n",
              "      <td>9.0</td>\n",
              "      <td>NaN</td>\n",
              "    </tr>\n",
              "    <tr>\n",
              "      <th>Olma</th>\n",
              "      <td>NaN</td>\n",
              "      <td>1.0</td>\n",
              "      <td>3.0</td>\n",
              "      <td>NaN</td>\n",
              "    </tr>\n",
              "    <tr>\n",
              "      <th>Qovun</th>\n",
              "      <td>NaN</td>\n",
              "      <td>NaN</td>\n",
              "      <td>NaN</td>\n",
              "      <td>NaN</td>\n",
              "    </tr>\n",
              "    <tr>\n",
              "      <th>Uzum</th>\n",
              "      <td>NaN</td>\n",
              "      <td>NaN</td>\n",
              "      <td>NaN</td>\n",
              "      <td>NaN</td>\n",
              "    </tr>\n",
              "  </tbody>\n",
              "</table>\n",
              "</div>"
            ],
            "text/plain": [
              "        a    b    c   d\n",
              "Anjir NaN  NaN  NaN NaN\n",
              "Anor  NaN  7.0  9.0 NaN\n",
              "Olma  NaN  1.0  3.0 NaN\n",
              "Qovun NaN  NaN  NaN NaN\n",
              "Uzum  NaN  NaN  NaN NaN"
            ]
          },
          "execution_count": 33,
          "metadata": {},
          "output_type": "execute_result"
        }
      ],
      "source": [
        "df1.add(df2)"
      ]
    },
    {
      "cell_type": "markdown",
      "id": "ae455f24-5503-4b25-a27f-383cf0e58a90",
      "metadata": {
        "id": "ae455f24-5503-4b25-a27f-383cf0e58a90"
      },
      "source": [
        "Bunda maxsus `fill_value` parametri yordamida mos tushuvchi indekslardagi NaN qiymatlarni boshqa qiymat bilan almashtirish mumkin. Bu usulda yakuniy natijada ikkala df da ham mavjud bo'lmagan indekslarda `NaN` qimtai qoladi."
      ]
    },
    {
      "cell_type": "code",
      "execution_count": null,
      "id": "d2322e6d-4b88-4dd6-bfa6-06e55c54cc67",
      "metadata": {
        "id": "d2322e6d-4b88-4dd6-bfa6-06e55c54cc67",
        "outputId": "450a5484-7e72-4dc5-ed63-9113bd0c1691"
      },
      "outputs": [
        {
          "data": {
            "text/html": [
              "<div>\n",
              "<style scoped>\n",
              "    .dataframe tbody tr th:only-of-type {\n",
              "        vertical-align: middle;\n",
              "    }\n",
              "\n",
              "    .dataframe tbody tr th {\n",
              "        vertical-align: top;\n",
              "    }\n",
              "\n",
              "    .dataframe thead th {\n",
              "        text-align: right;\n",
              "    }\n",
              "</style>\n",
              "<table border=\"1\" class=\"dataframe\">\n",
              "  <thead>\n",
              "    <tr style=\"text-align: right;\">\n",
              "      <th></th>\n",
              "      <th>a</th>\n",
              "      <th>b</th>\n",
              "      <th>c</th>\n",
              "      <th>d</th>\n",
              "    </tr>\n",
              "  </thead>\n",
              "  <tbody>\n",
              "    <tr>\n",
              "      <th>Anjir</th>\n",
              "      <td>9.0</td>\n",
              "      <td>10.0</td>\n",
              "      <td>11.0</td>\n",
              "      <td>NaN</td>\n",
              "    </tr>\n",
              "    <tr>\n",
              "      <th>Anor</th>\n",
              "      <td>3.0</td>\n",
              "      <td>7.0</td>\n",
              "      <td>9.0</td>\n",
              "      <td>5.0</td>\n",
              "    </tr>\n",
              "    <tr>\n",
              "      <th>Olma</th>\n",
              "      <td>0.0</td>\n",
              "      <td>1.0</td>\n",
              "      <td>3.0</td>\n",
              "      <td>2.0</td>\n",
              "    </tr>\n",
              "    <tr>\n",
              "      <th>Qovun</th>\n",
              "      <td>6.0</td>\n",
              "      <td>7.0</td>\n",
              "      <td>8.0</td>\n",
              "      <td>NaN</td>\n",
              "    </tr>\n",
              "    <tr>\n",
              "      <th>Uzum</th>\n",
              "      <td>NaN</td>\n",
              "      <td>6.0</td>\n",
              "      <td>7.0</td>\n",
              "      <td>8.0</td>\n",
              "    </tr>\n",
              "  </tbody>\n",
              "</table>\n",
              "</div>"
            ],
            "text/plain": [
              "         a     b     c    d\n",
              "Anjir  9.0  10.0  11.0  NaN\n",
              "Anor   3.0   7.0   9.0  5.0\n",
              "Olma   0.0   1.0   3.0  2.0\n",
              "Qovun  6.0   7.0   8.0  NaN\n",
              "Uzum   NaN   6.0   7.0  8.0"
            ]
          },
          "execution_count": 49,
          "metadata": {},
          "output_type": "execute_result"
        }
      ],
      "source": [
        "df2.add(df1, fill_value=0)"
      ]
    },
    {
      "cell_type": "code",
      "execution_count": null,
      "id": "cfd2ae55-588f-488b-85c5-1918560a2b2e",
      "metadata": {
        "id": "cfd2ae55-588f-488b-85c5-1918560a2b2e",
        "outputId": "32405958-6278-402f-d245-232125fbc969"
      },
      "outputs": [
        {
          "data": {
            "text/html": [
              "<div>\n",
              "<style scoped>\n",
              "    .dataframe tbody tr th:only-of-type {\n",
              "        vertical-align: middle;\n",
              "    }\n",
              "\n",
              "    .dataframe tbody tr th {\n",
              "        vertical-align: top;\n",
              "    }\n",
              "\n",
              "    .dataframe thead th {\n",
              "        text-align: right;\n",
              "    }\n",
              "</style>\n",
              "<table border=\"1\" class=\"dataframe\">\n",
              "  <thead>\n",
              "    <tr style=\"text-align: right;\">\n",
              "      <th></th>\n",
              "      <th>b</th>\n",
              "      <th>c</th>\n",
              "      <th>d</th>\n",
              "    </tr>\n",
              "  </thead>\n",
              "  <tbody>\n",
              "    <tr>\n",
              "      <th>Olma</th>\n",
              "      <td>0.0</td>\n",
              "      <td>1.0</td>\n",
              "      <td>2.0</td>\n",
              "    </tr>\n",
              "    <tr>\n",
              "      <th>Anor</th>\n",
              "      <td>3.0</td>\n",
              "      <td>4.0</td>\n",
              "      <td>5.0</td>\n",
              "    </tr>\n",
              "    <tr>\n",
              "      <th>Uzum</th>\n",
              "      <td>6.0</td>\n",
              "      <td>7.0</td>\n",
              "      <td>8.0</td>\n",
              "    </tr>\n",
              "  </tbody>\n",
              "</table>\n",
              "</div>"
            ],
            "text/plain": [
              "        b    c    d\n",
              "Olma  0.0  1.0  2.0\n",
              "Anor  3.0  4.0  5.0\n",
              "Uzum  6.0  7.0  8.0"
            ]
          },
          "execution_count": 50,
          "metadata": {},
          "output_type": "execute_result"
        }
      ],
      "source": [
        "df1"
      ]
    },
    {
      "cell_type": "code",
      "execution_count": null,
      "id": "801204f1-1808-4dc7-a851-9de925ccac73",
      "metadata": {
        "id": "801204f1-1808-4dc7-a851-9de925ccac73",
        "outputId": "e7e494fa-6f8d-44a0-ba29-c6c5e9589718"
      },
      "outputs": [
        {
          "data": {
            "text/html": [
              "<div>\n",
              "<style scoped>\n",
              "    .dataframe tbody tr th:only-of-type {\n",
              "        vertical-align: middle;\n",
              "    }\n",
              "\n",
              "    .dataframe tbody tr th {\n",
              "        vertical-align: top;\n",
              "    }\n",
              "\n",
              "    .dataframe thead th {\n",
              "        text-align: right;\n",
              "    }\n",
              "</style>\n",
              "<table border=\"1\" class=\"dataframe\">\n",
              "  <thead>\n",
              "    <tr style=\"text-align: right;\">\n",
              "      <th></th>\n",
              "      <th>a</th>\n",
              "      <th>b</th>\n",
              "      <th>c</th>\n",
              "    </tr>\n",
              "  </thead>\n",
              "  <tbody>\n",
              "    <tr>\n",
              "      <th>Olma</th>\n",
              "      <td>0.0</td>\n",
              "      <td>1.0</td>\n",
              "      <td>2.0</td>\n",
              "    </tr>\n",
              "    <tr>\n",
              "      <th>Anor</th>\n",
              "      <td>3.0</td>\n",
              "      <td>4.0</td>\n",
              "      <td>5.0</td>\n",
              "    </tr>\n",
              "    <tr>\n",
              "      <th>Qovun</th>\n",
              "      <td>6.0</td>\n",
              "      <td>7.0</td>\n",
              "      <td>8.0</td>\n",
              "    </tr>\n",
              "    <tr>\n",
              "      <th>Anjir</th>\n",
              "      <td>9.0</td>\n",
              "      <td>10.0</td>\n",
              "      <td>11.0</td>\n",
              "    </tr>\n",
              "  </tbody>\n",
              "</table>\n",
              "</div>"
            ],
            "text/plain": [
              "         a     b     c\n",
              "Olma   0.0   1.0   2.0\n",
              "Anor   3.0   4.0   5.0\n",
              "Qovun  6.0   7.0   8.0\n",
              "Anjir  9.0  10.0  11.0"
            ]
          },
          "execution_count": 51,
          "metadata": {},
          "output_type": "execute_result"
        }
      ],
      "source": [
        "df2"
      ]
    },
    {
      "cell_type": "markdown",
      "id": "984206fd-92c8-49e1-a44f-664af115fa3d",
      "metadata": {
        "id": "984206fd-92c8-49e1-a44f-664af115fa3d"
      },
      "source": [
        "### Boshqa arifmetik amallar\n",
        "\n",
        "- add, radd - Qo'shish (+)\n",
        "- sub, rsub - Ayirish (-)\n",
        "- div, rdiv - Bo'lish (/)\n",
        "- floordiv, rfloordiv - Bo'lish va butun qismini olis (//)\n",
        "- mul, rmul - Ko'paytirish (*)\n",
        "- pow, rpow - Eksponenta (\\*\\*)\n",
        "\n",
        "Yuqoridagi amallarning barchasida `fill_value` parametri mavjud."
      ]
    },
    {
      "cell_type": "markdown",
      "id": "97950cf3-e49b-4d48-8655-fa79a776bbb8",
      "metadata": {
        "id": "97950cf3-e49b-4d48-8655-fa79a776bbb8"
      },
      "source": [
        "`r`bilan boshlangan metodlarda `DataFrame` ifodaning o'ng  tarafida bo'ladi."
      ]
    },
    {
      "cell_type": "code",
      "execution_count": null,
      "id": "c9e0ba24-c9f9-4b72-90a7-46ca8a03062c",
      "metadata": {
        "id": "c9e0ba24-c9f9-4b72-90a7-46ca8a03062c",
        "outputId": "5b52f1f1-6296-4cdf-84ce-83a47d2b9f76"
      },
      "outputs": [
        {
          "data": {
            "text/html": [
              "<div>\n",
              "<style scoped>\n",
              "    .dataframe tbody tr th:only-of-type {\n",
              "        vertical-align: middle;\n",
              "    }\n",
              "\n",
              "    .dataframe tbody tr th {\n",
              "        vertical-align: top;\n",
              "    }\n",
              "\n",
              "    .dataframe thead th {\n",
              "        text-align: right;\n",
              "    }\n",
              "</style>\n",
              "<table border=\"1\" class=\"dataframe\">\n",
              "  <thead>\n",
              "    <tr style=\"text-align: right;\">\n",
              "      <th></th>\n",
              "      <th>b</th>\n",
              "      <th>c</th>\n",
              "      <th>d</th>\n",
              "    </tr>\n",
              "  </thead>\n",
              "  <tbody>\n",
              "    <tr>\n",
              "      <th>Olma</th>\n",
              "      <td>0.0</td>\n",
              "      <td>1.0</td>\n",
              "      <td>2.0</td>\n",
              "    </tr>\n",
              "    <tr>\n",
              "      <th>Anor</th>\n",
              "      <td>3.0</td>\n",
              "      <td>4.0</td>\n",
              "      <td>5.0</td>\n",
              "    </tr>\n",
              "    <tr>\n",
              "      <th>Uzum</th>\n",
              "      <td>6.0</td>\n",
              "      <td>7.0</td>\n",
              "      <td>8.0</td>\n",
              "    </tr>\n",
              "  </tbody>\n",
              "</table>\n",
              "</div>"
            ],
            "text/plain": [
              "        b    c    d\n",
              "Olma  0.0  1.0  2.0\n",
              "Anor  3.0  4.0  5.0\n",
              "Uzum  6.0  7.0  8.0"
            ]
          },
          "execution_count": 52,
          "metadata": {},
          "output_type": "execute_result"
        }
      ],
      "source": [
        "df1"
      ]
    },
    {
      "cell_type": "code",
      "execution_count": null,
      "id": "fb4fea36-2884-493f-b686-88e79eb8cc81",
      "metadata": {
        "id": "fb4fea36-2884-493f-b686-88e79eb8cc81",
        "outputId": "fe946137-b678-4488-b46a-ffb32dbafcf5"
      },
      "outputs": [
        {
          "data": {
            "text/html": [
              "<div>\n",
              "<style scoped>\n",
              "    .dataframe tbody tr th:only-of-type {\n",
              "        vertical-align: middle;\n",
              "    }\n",
              "\n",
              "    .dataframe tbody tr th {\n",
              "        vertical-align: top;\n",
              "    }\n",
              "\n",
              "    .dataframe thead th {\n",
              "        text-align: right;\n",
              "    }\n",
              "</style>\n",
              "<table border=\"1\" class=\"dataframe\">\n",
              "  <thead>\n",
              "    <tr style=\"text-align: right;\">\n",
              "      <th></th>\n",
              "      <th>b</th>\n",
              "      <th>c</th>\n",
              "      <th>d</th>\n",
              "    </tr>\n",
              "  </thead>\n",
              "  <tbody>\n",
              "    <tr>\n",
              "      <th>Olma</th>\n",
              "      <td>-2.0</td>\n",
              "      <td>-1.0</td>\n",
              "      <td>0.0</td>\n",
              "    </tr>\n",
              "    <tr>\n",
              "      <th>Anor</th>\n",
              "      <td>1.0</td>\n",
              "      <td>2.0</td>\n",
              "      <td>3.0</td>\n",
              "    </tr>\n",
              "    <tr>\n",
              "      <th>Uzum</th>\n",
              "      <td>4.0</td>\n",
              "      <td>5.0</td>\n",
              "      <td>6.0</td>\n",
              "    </tr>\n",
              "  </tbody>\n",
              "</table>\n",
              "</div>"
            ],
            "text/plain": [
              "        b    c    d\n",
              "Olma -2.0 -1.0  0.0\n",
              "Anor  1.0  2.0  3.0\n",
              "Uzum  4.0  5.0  6.0"
            ]
          },
          "execution_count": 61,
          "metadata": {},
          "output_type": "execute_result"
        }
      ],
      "source": [
        "df1.sub(2) # df-2 degani"
      ]
    },
    {
      "cell_type": "code",
      "execution_count": null,
      "id": "cad8a3a0-933a-4a4f-a336-26f44c040220",
      "metadata": {
        "id": "cad8a3a0-933a-4a4f-a336-26f44c040220",
        "outputId": "7f6d145b-7591-407b-fb71-63a057d3924c"
      },
      "outputs": [
        {
          "data": {
            "text/html": [
              "<div>\n",
              "<style scoped>\n",
              "    .dataframe tbody tr th:only-of-type {\n",
              "        vertical-align: middle;\n",
              "    }\n",
              "\n",
              "    .dataframe tbody tr th {\n",
              "        vertical-align: top;\n",
              "    }\n",
              "\n",
              "    .dataframe thead th {\n",
              "        text-align: right;\n",
              "    }\n",
              "</style>\n",
              "<table border=\"1\" class=\"dataframe\">\n",
              "  <thead>\n",
              "    <tr style=\"text-align: right;\">\n",
              "      <th></th>\n",
              "      <th>a</th>\n",
              "      <th>b</th>\n",
              "      <th>c</th>\n",
              "    </tr>\n",
              "  </thead>\n",
              "  <tbody>\n",
              "    <tr>\n",
              "      <th>Olma</th>\n",
              "      <td>2.0</td>\n",
              "      <td>1.0</td>\n",
              "      <td>0.0</td>\n",
              "    </tr>\n",
              "    <tr>\n",
              "      <th>Anor</th>\n",
              "      <td>-1.0</td>\n",
              "      <td>-2.0</td>\n",
              "      <td>-3.0</td>\n",
              "    </tr>\n",
              "    <tr>\n",
              "      <th>Qovun</th>\n",
              "      <td>-4.0</td>\n",
              "      <td>-5.0</td>\n",
              "      <td>-6.0</td>\n",
              "    </tr>\n",
              "    <tr>\n",
              "      <th>Anjir</th>\n",
              "      <td>-7.0</td>\n",
              "      <td>-8.0</td>\n",
              "      <td>-9.0</td>\n",
              "    </tr>\n",
              "  </tbody>\n",
              "</table>\n",
              "</div>"
            ],
            "text/plain": [
              "         a    b    c\n",
              "Olma   2.0  1.0  0.0\n",
              "Anor  -1.0 -2.0 -3.0\n",
              "Qovun -4.0 -5.0 -6.0\n",
              "Anjir -7.0 -8.0 -9.0"
            ]
          },
          "execution_count": 62,
          "metadata": {},
          "output_type": "execute_result"
        }
      ],
      "source": [
        "df2.rsub(2) # 2-df degani"
      ]
    },
    {
      "cell_type": "code",
      "execution_count": null,
      "id": "6fb1ae39-7a89-4d19-954a-3f6a65c19f3c",
      "metadata": {
        "id": "6fb1ae39-7a89-4d19-954a-3f6a65c19f3c"
      },
      "outputs": [],
      "source": []
    }
  ],
  "metadata": {
    "language_info": {
      "codemirror_mode": {
        "name": "ipython",
        "version": 3
      },
      "file_extension": ".py",
      "mimetype": "text/x-python",
      "name": "python",
      "nbconvert_exporter": "python",
      "pygments_lexer": "ipython3",
      "version": "3.8.8"
    },
    "colab": {
      "provenance": []
    }
  },
  "nbformat": 4,
  "nbformat_minor": 5
}