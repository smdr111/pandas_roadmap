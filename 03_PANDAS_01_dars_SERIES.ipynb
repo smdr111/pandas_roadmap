{
  "cells": [
    {
      "cell_type": "markdown",
      "id": "034e315b",
      "metadata": {
        "id": "034e315b"
      },
      "source": [
        "![Imgur](https://i.imgur.com/5pXzCIu.png)\n",
        "\n",
        "# Data Science va Sun'iy Intellekt Praktikum\n",
        "\n",
        "## Ma'lumotlar tahlili. Pandas kutubxonasi.\n",
        "\n",
        "### 2.2 Pandas kutubxonasi bilan tanishuv\n",
        "\n",
        "`pandas` kutubxonasi ma'lumotlar muhandisining eng muhim ish quroli hisoblanadi. Data Science loyihalar ustida ishlar ekanmiz, 90% amallar aynan pandas yordamida amalga oshiriladi. `pandas` o'zining maxsus ma'lumotlar tuzilmalariga ega va bu tuzilmalar ma'lumotlarga ishlov berish, tozalash va boshqa amllarni bir necha barobar osonlashtiradi.\n",
        "\n",
        "Avvalgi bo'limda ko'rilgan `numpy` kutubxonasidan farqli ravishda, `pandas` kutubxonasi faqatgina sonlardan iborat massivlar bilan emas, balki turli ko'rinishdagi ma'lumotlardan iborat jadvallar bilan ishlashga moslashgan."
      ]
    },
    {
      "cell_type": "markdown",
      "id": "8211f25f",
      "metadata": {
        "id": "8211f25f"
      },
      "source": [
        "### Kutubxonani chaqiramiz\n",
        "\n",
        "Oson bo'lishi uchun `pandas` kutubxonasini `pd` deb chaqirib olish urf bo'lgan."
      ]
    },
    {
      "cell_type": "code",
      "execution_count": null,
      "id": "5b0ccbd9",
      "metadata": {
        "id": "5b0ccbd9"
      },
      "outputs": [],
      "source": [
        "import pandas as pd\n",
        "import numpy as np"
      ]
    },
    {
      "cell_type": "markdown",
      "id": "c73942a4",
      "metadata": {
        "id": "c73942a4"
      },
      "source": [
        "## `pandas` tarkibidagi ma'lumotlar tuzilmalari\n",
        "\n",
        "pandas ikkita juda muhim va deyalri barcha loyihalar uchun mos tushuvchi Series va DataFrame ma'lumotlar tuzilamalariga ega. Keling ular bilan yaqindan tanishamiz.\n",
        "\n",
        "Boshlanishiga bu ikki tuzilmalarni ham dasturimizga chaqirib olaylik."
      ]
    },
    {
      "cell_type": "code",
      "execution_count": null,
      "id": "a543bf7d",
      "metadata": {
        "id": "a543bf7d"
      },
      "outputs": [],
      "source": [
        "from pandas import Series, DataFrame as df # DataFrameni qisqacha qilib df deb chariqib oldik"
      ]
    },
    {
      "cell_type": "markdown",
      "id": "8d88ccbd",
      "metadata": {
        "id": "8d88ccbd"
      },
      "source": [
        "### 2.2.1 `Series`\n",
        "\n",
        "`Series` bir o'lchovli massivga o'xshash ma'lumotlar tuzilmasi bo'lib qiymatlar va ularga mos keluvchi indekslardan iborat bo'ladi.\n",
        "\n",
        "Eng sodda ko'rinishda `Series` ma'lumotlar massividan iborat bo'ladi."
      ]
    },
    {
      "cell_type": "code",
      "execution_count": null,
      "id": "7cbe335d",
      "metadata": {
        "id": "7cbe335d"
      },
      "outputs": [],
      "source": [
        "obj = Series([4, 5, -7, 3.2])"
      ]
    },
    {
      "cell_type": "code",
      "execution_count": null,
      "id": "3bafadcc",
      "metadata": {
        "id": "3bafadcc",
        "outputId": "e6d544c9-c99b-4680-ad05-972e5683369c"
      },
      "outputs": [
        {
          "data": {
            "text/plain": [
              "0    4.0\n",
              "1    5.0\n",
              "2   -7.0\n",
              "3    3.2\n",
              "dtype: float64"
            ]
          },
          "execution_count": 5,
          "metadata": {},
          "output_type": "execute_result"
        }
      ],
      "source": [
        "obj"
      ]
    },
    {
      "cell_type": "markdown",
      "id": "81e157e1",
      "metadata": {
        "id": "81e157e1"
      },
      "source": [
        "Konsolga chop etganda ,`Series` yuqoridagi kabi indekslar (chap ustun) va qiymatlar (o'ng ustun) ko'rinishida chiqadi.\n",
        "`Series` obyektini yaratsihda indekslarni bermaganimiz sababli indekslar `0` dan `N-1` gacha qiymatlarni oladi (`N` ma'lumotlar uzunligi).\n",
        "\n",
        "`Series` obyekti index va qiymatlarini alohida ajratib ko'rishimiz ham mumkin."
      ]
    },
    {
      "cell_type": "code",
      "execution_count": null,
      "id": "78c31c02",
      "metadata": {
        "id": "78c31c02",
        "outputId": "37064ef5-e931-447e-ecbe-747d07519d9d"
      },
      "outputs": [
        {
          "data": {
            "text/plain": [
              "array([ 4. ,  5. , -7. ,  3.2])"
            ]
          },
          "execution_count": 6,
          "metadata": {},
          "output_type": "execute_result"
        }
      ],
      "source": [
        "obj.values # qiymatlar"
      ]
    },
    {
      "cell_type": "code",
      "execution_count": null,
      "id": "175bf75c",
      "metadata": {
        "id": "175bf75c",
        "outputId": "5e27cb45-f498-428a-841c-1493a107884a"
      },
      "outputs": [
        {
          "data": {
            "text/plain": [
              "RangeIndex(start=0, stop=4, step=1)"
            ]
          },
          "execution_count": 7,
          "metadata": {},
          "output_type": "execute_result"
        }
      ],
      "source": [
        "obj.index # indekslar"
      ]
    },
    {
      "cell_type": "markdown",
      "id": "2367f3a6",
      "metadata": {
        "id": "2367f3a6"
      },
      "source": [
        "Qiymatlarga indeks orqali murojaat qilish mumkin."
      ]
    },
    {
      "cell_type": "code",
      "execution_count": null,
      "id": "b5f547ad",
      "metadata": {
        "id": "b5f547ad",
        "outputId": "53ea80f8-47ba-47e4-de0c-1b15d75db891"
      },
      "outputs": [
        {
          "data": {
            "text/plain": [
              "4.0"
            ]
          },
          "execution_count": 13,
          "metadata": {},
          "output_type": "execute_result"
        }
      ],
      "source": [
        "obj[0] # birinchi element"
      ]
    },
    {
      "cell_type": "code",
      "execution_count": null,
      "id": "3e9d806e",
      "metadata": {
        "id": "3e9d806e",
        "outputId": "3ca1d517-8e1a-4fff-8a81-f325b66be1e4"
      },
      "outputs": [
        {
          "data": {
            "text/plain": [
              "3.2"
            ]
          },
          "execution_count": 17,
          "metadata": {},
          "output_type": "execute_result"
        }
      ],
      "source": [
        "obj[3]"
      ]
    },
    {
      "cell_type": "markdown",
      "id": "140e5f2b",
      "metadata": {
        "id": "140e5f2b"
      },
      "source": [
        "`Series` obyektini yaratishda indekslarga o'zimiz ham nom berishimiz mumkin"
      ]
    },
    {
      "cell_type": "code",
      "execution_count": null,
      "id": "9faa330a",
      "metadata": {
        "id": "9faa330a"
      },
      "outputs": [],
      "source": [
        "obj2 = Series([4, 5, -7, 3.2], index=['a','b','c','d']) # bu yerda indekslarga alifbo harflarini berdik."
      ]
    },
    {
      "cell_type": "code",
      "execution_count": null,
      "id": "beac19c7",
      "metadata": {
        "id": "beac19c7",
        "outputId": "68db903e-0002-40ba-f4f5-08c5856ab0fd"
      },
      "outputs": [
        {
          "data": {
            "text/plain": [
              "a    4.0\n",
              "b    5.0\n",
              "c   -7.0\n",
              "d    3.2\n",
              "dtype: float64"
            ]
          },
          "execution_count": 9,
          "metadata": {},
          "output_type": "execute_result"
        }
      ],
      "source": [
        "obj2"
      ]
    },
    {
      "cell_type": "code",
      "execution_count": null,
      "id": "5aa9cb88",
      "metadata": {
        "id": "5aa9cb88",
        "outputId": "9f6f1741-e948-4f9d-e753-a70ccb0bbc60"
      },
      "outputs": [
        {
          "data": {
            "text/plain": [
              "Index(['a', 'b', 'c', 'd'], dtype='object')"
            ]
          },
          "execution_count": 10,
          "metadata": {},
          "output_type": "execute_result"
        }
      ],
      "source": [
        "obj2.index"
      ]
    },
    {
      "cell_type": "markdown",
      "id": "43be3341",
      "metadata": {
        "id": "43be3341"
      },
      "source": [
        "Obyekt ichidagi qiymatlarga esa yana indeks orqali murojaat qilamiz:"
      ]
    },
    {
      "cell_type": "code",
      "execution_count": null,
      "id": "43de675d",
      "metadata": {
        "id": "43de675d",
        "outputId": "402b84fd-a610-4a8f-854a-35a9f91f10df"
      },
      "outputs": [
        {
          "data": {
            "text/plain": [
              "4.0"
            ]
          },
          "execution_count": 12,
          "metadata": {},
          "output_type": "execute_result"
        }
      ],
      "source": [
        "obj2['a']"
      ]
    },
    {
      "cell_type": "code",
      "execution_count": null,
      "id": "63865e7c",
      "metadata": {
        "id": "63865e7c"
      },
      "outputs": [],
      "source": [
        "obj2['a']=4.5"
      ]
    },
    {
      "cell_type": "code",
      "execution_count": null,
      "id": "4a413744",
      "metadata": {
        "id": "4a413744",
        "outputId": "809d647e-457d-4e6f-d7e5-dae2afc03f1f"
      },
      "outputs": [
        {
          "data": {
            "text/plain": [
              "a    4.5\n",
              "b    5.0\n",
              "c   -7.0\n",
              "d    3.2\n",
              "dtype: float64"
            ]
          },
          "execution_count": 48,
          "metadata": {},
          "output_type": "execute_result"
        }
      ],
      "source": [
        "obj2"
      ]
    },
    {
      "cell_type": "markdown",
      "id": "bab2c845",
      "metadata": {
        "id": "bab2c845"
      },
      "source": [
        "Yangi qiymat qo'shish:"
      ]
    },
    {
      "cell_type": "code",
      "execution_count": null,
      "id": "cdd471d4",
      "metadata": {
        "id": "cdd471d4"
      },
      "outputs": [],
      "source": [
        "obj2['e']=5"
      ]
    },
    {
      "cell_type": "code",
      "execution_count": null,
      "id": "c34c0ec5",
      "metadata": {
        "id": "c34c0ec5",
        "outputId": "d5fb966d-ce47-49d6-f1bd-06c650226936"
      },
      "outputs": [
        {
          "data": {
            "text/plain": [
              "a    4.5\n",
              "b    5.0\n",
              "c   -7.0\n",
              "d    3.2\n",
              "e    5.0\n",
              "dtype: float64"
            ]
          },
          "execution_count": 51,
          "metadata": {},
          "output_type": "execute_result"
        }
      ],
      "source": [
        "obj2"
      ]
    },
    {
      "cell_type": "markdown",
      "id": "5862e186",
      "metadata": {
        "id": "5862e186"
      },
      "source": [
        "Birdaniga bir nechta qiymatlarni olish:"
      ]
    },
    {
      "cell_type": "code",
      "execution_count": null,
      "id": "3a59ef9e",
      "metadata": {
        "id": "3a59ef9e",
        "outputId": "f1c5e912-ea45-49f9-aa71-467cbd367247"
      },
      "outputs": [
        {
          "data": {
            "text/plain": [
              "a    4.5\n",
              "c   -7.0\n",
              "e    5.0\n",
              "dtype: float64"
            ]
          },
          "execution_count": 52,
          "metadata": {},
          "output_type": "execute_result"
        }
      ],
      "source": [
        "obj2[['a','c','e']]"
      ]
    },
    {
      "cell_type": "markdown",
      "id": "62ad79f0",
      "metadata": {
        "id": "62ad79f0"
      },
      "source": [
        "`Series` obyekti ustida arifmetik amallar bajarishda indekslar saqlanib qoladi"
      ]
    },
    {
      "cell_type": "code",
      "execution_count": null,
      "id": "e300b78e",
      "metadata": {
        "id": "e300b78e",
        "outputId": "5d1152ba-2f5c-4f5f-c3d7-ebe02e7e2543"
      },
      "outputs": [
        {
          "data": {
            "text/plain": [
              "a    4.0\n",
              "b    5.0\n",
              "d    3.2\n",
              "dtype: float64"
            ]
          },
          "execution_count": 19,
          "metadata": {},
          "output_type": "execute_result"
        }
      ],
      "source": [
        "obj2[obj2>0]"
      ]
    },
    {
      "cell_type": "code",
      "execution_count": null,
      "id": "293ecf62",
      "metadata": {
        "id": "293ecf62",
        "outputId": "5c503f37-12b7-4576-edf8-962420e89ec0"
      },
      "outputs": [
        {
          "data": {
            "text/plain": [
              "a     8.0\n",
              "b    10.0\n",
              "c   -14.0\n",
              "d     6.4\n",
              "dtype: float64"
            ]
          },
          "execution_count": 20,
          "metadata": {},
          "output_type": "execute_result"
        }
      ],
      "source": [
        "obj2*2"
      ]
    },
    {
      "cell_type": "code",
      "execution_count": null,
      "id": "e305c453",
      "metadata": {
        "id": "e305c453",
        "outputId": "b4620306-444a-4ef3-b9a0-7a0fe1481103"
      },
      "outputs": [
        {
          "data": {
            "text/plain": [
              "a     54.598150\n",
              "b    148.413159\n",
              "c      0.000912\n",
              "d     24.532530\n",
              "dtype: float64"
            ]
          },
          "execution_count": 22,
          "metadata": {},
          "output_type": "execute_result"
        }
      ],
      "source": [
        "np.exp(obj2)"
      ]
    },
    {
      "cell_type": "markdown",
      "id": "9e1883b4",
      "metadata": {
        "id": "9e1883b4"
      },
      "source": [
        "`Series` obyektini Pythondagi lug'at (dictionary) ma'lumot turiga ham o'xshatish mumkin. Yodingizda bo'lsa lug'at elementlari ham 2 qismdan, kalit va qiymatdan iborat edi.\n",
        "\n",
        "O'rni kelganda bu turdagi obyektlardan lug'atdan foydalangandek ham foydalanish mumkin:"
      ]
    },
    {
      "cell_type": "code",
      "execution_count": null,
      "id": "4965d6f3",
      "metadata": {
        "id": "4965d6f3",
        "outputId": "9e1e6113-b4ce-4e8c-97a3-6ee8d7ca13c8"
      },
      "outputs": [
        {
          "data": {
            "text/plain": [
              "True"
            ]
          },
          "execution_count": 94,
          "metadata": {},
          "output_type": "execute_result"
        }
      ],
      "source": [
        "'b' in obj2"
      ]
    },
    {
      "cell_type": "code",
      "execution_count": null,
      "id": "5ff5aa83",
      "metadata": {
        "id": "5ff5aa83",
        "outputId": "3a544e2c-c387-4fc3-af1e-15e3b62fe3dd"
      },
      "outputs": [
        {
          "data": {
            "text/plain": [
              "False"
            ]
          },
          "execution_count": 24,
          "metadata": {},
          "output_type": "execute_result"
        }
      ],
      "source": [
        "'x' in obj2"
      ]
    },
    {
      "cell_type": "markdown",
      "id": "69800b4e",
      "metadata": {
        "id": "69800b4e"
      },
      "source": [
        "Lug'atdan `Series` obyektini yaratish ham juda oson:"
      ]
    },
    {
      "cell_type": "code",
      "execution_count": null,
      "id": "80b4c570",
      "metadata": {
        "id": "80b4c570"
      },
      "outputs": [],
      "source": [
        "cars_dict = {'Malibu':40000, 'Lacetti':20000, 'Toyota':45000, 'Mazda':52000, 'Honda':38000} # bu lug'at"
      ]
    },
    {
      "cell_type": "code",
      "execution_count": null,
      "id": "caeb485a",
      "metadata": {
        "id": "caeb485a"
      },
      "outputs": [],
      "source": [
        "salon1 = Series(cars_dict) # lug'atdan Sereis yaratamiz"
      ]
    },
    {
      "cell_type": "code",
      "execution_count": null,
      "id": "7986df89",
      "metadata": {
        "id": "7986df89",
        "outputId": "0db6730b-2f02-48a1-e596-56bdd97207df"
      },
      "outputs": [
        {
          "data": {
            "text/plain": [
              "Malibu     40000\n",
              "Lacetti    20000\n",
              "Toyota     45000\n",
              "Mazda      52000\n",
              "Honda      38000\n",
              "dtype: int64"
            ]
          },
          "execution_count": 98,
          "metadata": {},
          "output_type": "execute_result"
        }
      ],
      "source": [
        "salon1"
      ]
    },
    {
      "cell_type": "code",
      "execution_count": null,
      "id": "675dc4ea",
      "metadata": {
        "id": "675dc4ea",
        "outputId": "26ccfc0f-1ec7-4fd4-c1df-bf48c98c2c32"
      },
      "outputs": [
        {
          "data": {
            "text/plain": [
              "38000"
            ]
          },
          "execution_count": 99,
          "metadata": {},
          "output_type": "execute_result"
        }
      ],
      "source": [
        "salon1['Honda']"
      ]
    },
    {
      "cell_type": "markdown",
      "id": "ed32445c",
      "metadata": {
        "id": "ed32445c"
      },
      "source": [
        "Lug'atdan `Series` yaratishda yangi elementlar indeksi lug'atda berilgan ketma-ketlikda bo'ladi. Bu ketma-ketlikni biz avvaldan ro'yxat ko'rinishida ham berishimiz mumkin."
      ]
    },
    {
      "cell_type": "code",
      "execution_count": null,
      "id": "75ba0338",
      "metadata": {
        "id": "75ba0338"
      },
      "outputs": [],
      "source": [
        "models = ['Honda','Mazda','Lacetti','Jaguar','Malibu','Toyota'] # buyerda bitta qo'shimcha model bor"
      ]
    },
    {
      "cell_type": "code",
      "execution_count": null,
      "id": "9f97a253",
      "metadata": {
        "id": "9f97a253"
      },
      "outputs": [],
      "source": [
        "salon2 = Series(cars_dict, index=models)"
      ]
    },
    {
      "cell_type": "code",
      "execution_count": null,
      "id": "a955010c",
      "metadata": {
        "id": "a955010c",
        "outputId": "0bbe422e-b1e0-472e-f879-c744c48497b7"
      },
      "outputs": [
        {
          "data": {
            "text/plain": [
              "Honda      38000.0\n",
              "Mazda      52000.0\n",
              "Lacetti    20000.0\n",
              "Jaguar         NaN\n",
              "Malibu     40000.0\n",
              "Toyota     45000.0\n",
              "dtype: float64"
            ]
          },
          "execution_count": 115,
          "metadata": {},
          "output_type": "execute_result"
        }
      ],
      "source": [
        "salon2"
      ]
    },
    {
      "cell_type": "markdown",
      "id": "e5855406",
      "metadata": {
        "id": "e5855406"
      },
      "source": [
        "Keyinchalik, ma'lumotlar bilan ishlaganda `NaN` qiymatlarni ajratish muhim ahamiyatga ega. Buning uchun `Series` obyekti bir maxsus metodlarga ega:"
      ]
    },
    {
      "cell_type": "code",
      "execution_count": null,
      "id": "8c0d2048",
      "metadata": {
        "id": "8c0d2048",
        "outputId": "009c2048-eee4-4adb-acd2-e545879ae034"
      },
      "outputs": [
        {
          "data": {
            "text/plain": [
              "Honda      False\n",
              "Mazda      False\n",
              "Lacetti    False\n",
              "Jaguar      True\n",
              "Malibu     False\n",
              "Toyota     False\n",
              "dtype: bool"
            ]
          },
          "execution_count": 116,
          "metadata": {},
          "output_type": "execute_result"
        }
      ],
      "source": [
        "salon2.isnull() # qiymat null (mavjud emasligini) tekshirish uchun"
      ]
    },
    {
      "cell_type": "code",
      "execution_count": null,
      "id": "0337db34",
      "metadata": {
        "id": "0337db34",
        "outputId": "587b0d6a-930f-409f-f8e3-6ecbeb5f714c"
      },
      "outputs": [
        {
          "data": {
            "text/plain": [
              "Honda       True\n",
              "Mazda       True\n",
              "Lacetti     True\n",
              "Jaguar     False\n",
              "Malibu      True\n",
              "Toyota      True\n",
              "dtype: bool"
            ]
          },
          "execution_count": 117,
          "metadata": {},
          "output_type": "execute_result"
        }
      ],
      "source": [
        "salon2.notnull() # qiymat null emasligini (mavjudligini) tekshirish uchun"
      ]
    },
    {
      "cell_type": "markdown",
      "id": "bd8cb678",
      "metadata": {
        "id": "bd8cb678"
      },
      "source": [
        "`Series` obyektining muhim jihatlaridan biri, ikkita `series` obyektini qo'shishda (ayirishda) qiymatlar indeks bo'yicha qo'shiladi."
      ]
    },
    {
      "cell_type": "code",
      "execution_count": null,
      "id": "b117c771",
      "metadata": {
        "id": "b117c771",
        "outputId": "83c2faf7-ea66-4ece-cf62-b31158fd214e"
      },
      "outputs": [
        {
          "data": {
            "text/plain": [
              "Honda      38000.0\n",
              "Mazda      52000.0\n",
              "Lacetti    20000.0\n",
              "Jaguar         NaN\n",
              "Malibu     40000.0\n",
              "Toyota     45000.0\n",
              "dtype: float64"
            ]
          },
          "execution_count": 118,
          "metadata": {},
          "output_type": "execute_result"
        }
      ],
      "source": [
        "salon2"
      ]
    },
    {
      "cell_type": "code",
      "execution_count": null,
      "id": "f39d6df2",
      "metadata": {
        "id": "f39d6df2"
      },
      "outputs": [],
      "source": [
        "# 'Honda','Mazda','Lacetti','Jaguar','Malibu','Toyota'\n",
        "new_prices = Series({\"Honda\":5000, \"Mazda\":-3000, \"Malibu\":4500, \"Toyota\":5200, 'Lacetti':-1200})"
      ]
    },
    {
      "cell_type": "code",
      "execution_count": null,
      "id": "2c0d0a51",
      "metadata": {
        "id": "2c0d0a51",
        "outputId": "df209c6b-b6b1-46f8-c1de-39d21298da72"
      },
      "outputs": [
        {
          "data": {
            "text/plain": [
              "Honda      5000\n",
              "Mazda     -3000\n",
              "Malibu     4500\n",
              "Toyota     5200\n",
              "Lacetti   -1200\n",
              "dtype: int64"
            ]
          },
          "execution_count": 129,
          "metadata": {},
          "output_type": "execute_result"
        }
      ],
      "source": [
        "new_prices"
      ]
    },
    {
      "cell_type": "code",
      "execution_count": null,
      "id": "c0b9173b",
      "metadata": {
        "id": "c0b9173b",
        "outputId": "5c6847e2-2278-43b0-d1a4-d642d783bcd1"
      },
      "outputs": [
        {
          "data": {
            "text/plain": [
              "Honda      43000.0\n",
              "Jaguar         NaN\n",
              "Lacetti    18800.0\n",
              "Malibu     44500.0\n",
              "Mazda      49000.0\n",
              "Toyota     50200.0\n",
              "dtype: float64"
            ]
          },
          "execution_count": 130,
          "metadata": {},
          "output_type": "execute_result"
        }
      ],
      "source": [
        "salon2+new_prices"
      ]
    },
    {
      "cell_type": "markdown",
      "id": "484e452f",
      "metadata": {
        "id": "484e452f"
      },
      "source": [
        "`Series` obyektining o'zini ham indekslarini ham nomlash mumkin:"
      ]
    },
    {
      "cell_type": "code",
      "execution_count": null,
      "id": "744f8738",
      "metadata": {
        "id": "744f8738"
      },
      "outputs": [],
      "source": [
        "salon2.name = 'Avtosalon'"
      ]
    },
    {
      "cell_type": "code",
      "execution_count": null,
      "id": "c5314005",
      "metadata": {
        "id": "c5314005"
      },
      "outputs": [],
      "source": [
        "salon2.index.name = 'Car Model'"
      ]
    },
    {
      "cell_type": "code",
      "execution_count": null,
      "id": "e5eeedbb",
      "metadata": {
        "id": "e5eeedbb",
        "outputId": "94e1eb58-96a8-405d-c08e-3499a2e574e8"
      },
      "outputs": [
        {
          "data": {
            "text/plain": [
              "Car Model\n",
              "Honda      38000.0\n",
              "Mazda      52000.0\n",
              "Lacetti    20000.0\n",
              "Jaguar         NaN\n",
              "Malibu     40000.0\n",
              "Toyota     45000.0\n",
              "Name: Avtosalon, dtype: float64"
            ]
          },
          "execution_count": 140,
          "metadata": {},
          "output_type": "execute_result"
        }
      ],
      "source": [
        "salon2"
      ]
    },
    {
      "cell_type": "code",
      "execution_count": null,
      "id": "7882e172",
      "metadata": {
        "id": "7882e172",
        "outputId": "6e57e34e-7907-4d78-cf92-d900f3b2e8e7"
      },
      "outputs": [
        {
          "data": {
            "text/plain": [
              "'Avtosalon'"
            ]
          },
          "execution_count": 141,
          "metadata": {},
          "output_type": "execute_result"
        }
      ],
      "source": [
        "salon2.name"
      ]
    },
    {
      "cell_type": "markdown",
      "id": "51ca624d",
      "metadata": {
        "id": "51ca624d"
      },
      "source": [
        "## `Series` obyektiga oid ba'zi parametrlar va metodlar"
      ]
    },
    {
      "cell_type": "code",
      "execution_count": null,
      "id": "56a96c8c",
      "metadata": {
        "id": "56a96c8c",
        "outputId": "fa3c2a37-d5cc-4466-c114-9091e2bfda54"
      },
      "outputs": [
        {
          "data": {
            "text/plain": [
              "Index(['Honda', 'Mazda', 'Lacetti', 'Jaguar', 'Malibu', 'Toyota'], dtype='object', name='Car Model')"
            ]
          },
          "execution_count": 160,
          "metadata": {},
          "output_type": "execute_result"
        }
      ],
      "source": [
        "salon2.index # indekslar"
      ]
    },
    {
      "cell_type": "code",
      "execution_count": null,
      "id": "3a6fe77b",
      "metadata": {
        "id": "3a6fe77b",
        "outputId": "0a63d9ca-99eb-480d-db4f-baa5c432b8e0"
      },
      "outputs": [
        {
          "data": {
            "text/plain": [
              "array([38000., 52000., 20000.,    nan, 40000., 45000.])"
            ]
          },
          "execution_count": 161,
          "metadata": {},
          "output_type": "execute_result"
        }
      ],
      "source": [
        "salon2.values # qiymatlar"
      ]
    },
    {
      "cell_type": "code",
      "execution_count": null,
      "id": "2cebdbaa",
      "metadata": {
        "id": "2cebdbaa",
        "outputId": "37094053-2fe9-4d61-984f-565102292667"
      },
      "outputs": [
        {
          "data": {
            "text/plain": [
              "True"
            ]
          },
          "execution_count": 170,
          "metadata": {},
          "output_type": "execute_result"
        }
      ],
      "source": [
        "salon2.hasnans # NaN qiymatlar bor (True) yo'qligi (False)"
      ]
    },
    {
      "cell_type": "code",
      "execution_count": null,
      "id": "4aa0030c",
      "metadata": {
        "id": "4aa0030c",
        "outputId": "65e01fea-c13b-4055-8e50-e0c391ef4ff0"
      },
      "outputs": [
        {
          "data": {
            "text/plain": [
              "dtype('float64')"
            ]
          },
          "execution_count": 164,
          "metadata": {},
          "output_type": "execute_result"
        }
      ],
      "source": [
        "salon2.dtype # qiymatlarning ma'lumot turi"
      ]
    },
    {
      "cell_type": "code",
      "execution_count": null,
      "id": "0259d253",
      "metadata": {
        "id": "0259d253",
        "outputId": "003dd91f-4bde-40f6-ee32-0ec3fcd70db0"
      },
      "outputs": [
        {
          "data": {
            "text/plain": [
              "True"
            ]
          },
          "execution_count": 172,
          "metadata": {},
          "output_type": "execute_result"
        }
      ],
      "source": [
        "salon2.is_unique # qiymatlar takrorlanmas ekanini tekshirish"
      ]
    },
    {
      "cell_type": "code",
      "execution_count": null,
      "id": "6225a021",
      "metadata": {
        "id": "6225a021",
        "outputId": "819dbed6-b174-406d-d367-b87b7cf79f69"
      },
      "outputs": [
        {
          "data": {
            "text/plain": [
              "(6,)"
            ]
          },
          "execution_count": 153,
          "metadata": {},
          "output_type": "execute_result"
        }
      ],
      "source": [
        "salon2.shape # Series hajmi"
      ]
    },
    {
      "cell_type": "code",
      "execution_count": null,
      "id": "42ff4fa8",
      "metadata": {
        "scrolled": true,
        "id": "42ff4fa8",
        "outputId": "edd9ea9d-38e4-4361-9beb-03c3da944434"
      },
      "outputs": [
        {
          "data": {
            "text/plain": [
              "6"
            ]
          },
          "execution_count": 154,
          "metadata": {},
          "output_type": "execute_result"
        }
      ],
      "source": [
        "salon2.size # Series hajmi"
      ]
    },
    {
      "cell_type": "code",
      "execution_count": null,
      "id": "abfa7655",
      "metadata": {
        "scrolled": true,
        "id": "abfa7655",
        "outputId": "28ee19ca-8b28-4847-c37f-3823ca37efdc"
      },
      "outputs": [
        {
          "data": {
            "text/plain": [
              "20000.0"
            ]
          },
          "execution_count": 168,
          "metadata": {},
          "output_type": "execute_result"
        }
      ],
      "source": [
        "salon2.iloc[2] # ma'lumotlarga indeks tartib raqami bo'yicha murojaat qilish"
      ]
    },
    {
      "cell_type": "code",
      "execution_count": null,
      "id": "57edc208",
      "metadata": {
        "id": "57edc208",
        "outputId": "0270516d-fed1-4e9c-9234-e9f95272dfa6"
      },
      "outputs": [
        {
          "data": {
            "text/plain": [
              "45000.0"
            ]
          },
          "execution_count": 169,
          "metadata": {},
          "output_type": "execute_result"
        }
      ],
      "source": [
        "salon2.iloc[-1]"
      ]
    },
    {
      "cell_type": "code",
      "execution_count": null,
      "id": "f1b022d9",
      "metadata": {
        "id": "f1b022d9",
        "outputId": "8a7d9116-d833-4985-9879-df2dd15458bb"
      },
      "outputs": [
        {
          "data": {
            "text/plain": [
              "38000.0"
            ]
          },
          "execution_count": 165,
          "metadata": {},
          "output_type": "execute_result"
        }
      ],
      "source": [
        "salon2['Honda'] # ma'lumotlarga indeks bo'yicha murojaat qilish"
      ]
    },
    {
      "cell_type": "code",
      "execution_count": null,
      "id": "4d0ba654",
      "metadata": {
        "id": "4d0ba654",
        "outputId": "aef0225a-8b6b-49e9-ebf4-60eba6c4a483"
      },
      "outputs": [
        {
          "data": {
            "text/plain": [
              "45000.0"
            ]
          },
          "execution_count": 166,
          "metadata": {},
          "output_type": "execute_result"
        }
      ],
      "source": [
        "salon2.loc['Toyota'] # ma'lumotlarga indeks bo'yicha murojaat qilish"
      ]
    },
    {
      "cell_type": "code",
      "execution_count": null,
      "id": "67589333",
      "metadata": {
        "id": "67589333",
        "outputId": "3a19d8fd-bccd-4797-dcdb-c0158710b902"
      },
      "outputs": [
        {
          "data": {
            "text/plain": [
              "52000.0"
            ]
          },
          "execution_count": 157,
          "metadata": {},
          "output_type": "execute_result"
        }
      ],
      "source": [
        "salon2.max() # max qiymat"
      ]
    },
    {
      "cell_type": "code",
      "execution_count": null,
      "id": "1f221603",
      "metadata": {
        "id": "1f221603",
        "outputId": "9d04ccac-67f8-4272-9ef5-a5f29f482863"
      },
      "outputs": [
        {
          "data": {
            "text/plain": [
              "20000.0"
            ]
          },
          "execution_count": 158,
          "metadata": {},
          "output_type": "execute_result"
        }
      ],
      "source": [
        "salon2.min() # min qiymat"
      ]
    },
    {
      "cell_type": "code",
      "execution_count": null,
      "id": "ef0ba978",
      "metadata": {
        "id": "ef0ba978",
        "outputId": "9a140367-2ef9-41f1-9d5c-a857f84d9650"
      },
      "outputs": [
        {
          "data": {
            "text/plain": [
              "39000.0"
            ]
          },
          "execution_count": 173,
          "metadata": {},
          "output_type": "execute_result"
        }
      ],
      "source": [
        "salon2.mean() # o'rtacha qiymat"
      ]
    },
    {
      "cell_type": "markdown",
      "id": "71d61527",
      "metadata": {
        "id": "71d61527"
      },
      "source": [
        "## AMALIYOT"
      ]
    },
    {
      "cell_type": "code",
      "execution_count": null,
      "id": "59a40094",
      "metadata": {
        "id": "59a40094"
      },
      "outputs": [],
      "source": []
    }
  ],
  "metadata": {
    "language_info": {
      "codemirror_mode": {
        "name": "ipython",
        "version": 3
      },
      "file_extension": ".py",
      "mimetype": "text/x-python",
      "name": "python",
      "nbconvert_exporter": "python",
      "pygments_lexer": "ipython3",
      "version": "3.8.8"
    },
    "colab": {
      "provenance": []
    }
  },
  "nbformat": 4,
  "nbformat_minor": 5
}